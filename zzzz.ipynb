{
 "cells": [
  {
   "cell_type": "code",
   "execution_count": 18,
   "id": "89f1599f",
   "metadata": {},
   "outputs": [],
   "source": [
    "from pytorch_lightning import Trainer\n",
    "from models import Model, LitCHLPModel\n",
    "import torch\n",
    "from datasets import IMDBHypergraphDataset\n",
    "from utils import pre_transform, transform\n",
    "from pytorch_lightning.callbacks import EarlyStopping\n",
    "from datasets import train_test_split, collate_fn\n",
    "from torch.utils.data import DataLoader\n",
    "import lightning as L\n",
    "from pytorch_lightning.tuner import Tuner"
   ]
  },
  {
   "cell_type": "code",
   "execution_count": 19,
   "id": "45d1c85a",
   "metadata": {},
   "outputs": [
    {
     "name": "stderr",
     "output_type": "stream",
     "text": [
      "Processing...\n",
      "Done!\n"
     ]
    }
   ],
   "source": [
    "dataset = IMDBHypergraphDataset(\"./data\", pre_transform=pre_transform, transform=transform, force_reload=True)\n",
    "train_dataset, test_dataset, _, _, _, _ = train_test_split(dataset, test_size=0.3)\n",
    "train_dataset, validation_dataset, _, _, _, _ = train_test_split(train_dataset, test_size=0.3)\n"
   ]
  },
  {
   "cell_type": "code",
   "execution_count": 20,
   "id": "81eb6369",
   "metadata": {},
   "outputs": [],
   "source": [
    "early_stop_callback = EarlyStopping(\n",
    "    monitor=\"val_loss\",\n",
    "    patience=50,\n",
    "    verbose=True,\n",
    "    mode=\"min\"\n",
    ")"
   ]
  },
  {
   "cell_type": "code",
   "execution_count": 21,
   "id": "5fb9835c",
   "metadata": {},
   "outputs": [
    {
     "name": "stderr",
     "output_type": "stream",
     "text": [
      "Using default `ModelCheckpoint`. Consider installing `litmodels` package to enable `LitModelCheckpoint` for automatic upload to the Lightning model registry.\n",
      "GPU available: True (cuda), used: True\n",
      "TPU available: False, using: 0 TPU cores\n",
      "HPU available: False, using: 0 HPUs\n",
      "LOCAL_RANK: 0 - CUDA_VISIBLE_DEVICES: [0]\n"
     ]
    },
    {
     "name": "stderr",
     "output_type": "stream",
     "text": [
      "/home/dariodemaio/Documents/Contextual_HLP/.venv/lib/python3.13/site-packages/pytorch_lightning/trainer/connectors/data_connector.py:476: Your `val_dataloader`'s sampler has shuffling enabled, it is strongly recommended that you turn shuffling off for val/test dataloaders.\n",
      "/home/dariodemaio/Documents/Contextual_HLP/.venv/lib/python3.13/site-packages/pytorch_lightning/utilities/data.py:79: Trying to infer the `batch_size` from an ambiguous collection. The batch size we found is 2189. To avoid any miscalculations, use `self.log(..., batch_size=batch_size)`.\n",
      "/home/dariodemaio/Documents/Contextual_HLP/.venv/lib/python3.13/site-packages/pytorch_lightning/utilities/data.py:79: Trying to infer the `batch_size` from an ambiguous collection. The batch size we found is 2058. To avoid any miscalculations, use `self.log(..., batch_size=batch_size)`.\n",
      "/home/dariodemaio/Documents/Contextual_HLP/.venv/lib/python3.13/site-packages/pytorch_lightning/utilities/data.py:79: Trying to infer the `batch_size` from an ambiguous collection. The batch size we found is 2179. To avoid any miscalculations, use `self.log(..., batch_size=batch_size)`.\n",
      "`Trainer.fit` stopped: `max_epochs=10` reached.\n",
      "LR finder stopped early after 70 steps due to diverging loss.\n",
      "Finding best initial lr:  70%|███████   | 70/100 [00:21<00:09,  3.24it/s]\n",
      "Learning rate set to 0.0005248074602497723\n",
      "Restoring states from the checkpoint path at /home/dariodemaio/Documents/Contextual_HLP/.lr_find_32ee7597-cf4b-415b-a272-4a3baf670730.ckpt\n",
      "Restored all states from the checkpoint at /home/dariodemaio/Documents/Contextual_HLP/.lr_find_32ee7597-cf4b-415b-a272-4a3baf670730.ckpt\n",
      "Using default `ModelCheckpoint`. Consider installing `litmodels` package to enable `LitModelCheckpoint` for automatic upload to the Lightning model registry.\n",
      "GPU available: True (cuda), used: True\n",
      "TPU available: False, using: 0 TPU cores\n",
      "HPU available: False, using: 0 HPUs\n",
      "LOCAL_RANK: 0 - CUDA_VISIBLE_DEVICES: [0]\n",
      "\n",
      "  | Name      | Type              | Params | Mode \n",
      "--------------------------------------------------------\n",
      "0 | model     | Model             | 9.5 M  | train\n",
      "1 | criterion | BCEWithLogitsLoss | 0      | train\n",
      "--------------------------------------------------------\n",
      "9.5 M     Trainable params\n",
      "0         Non-trainable params\n",
      "9.5 M     Total params\n",
      "37.841    Total estimated model params size (MB)\n",
      "16        Modules in train mode\n",
      "0         Modules in eval mode\n"
     ]
    },
    {
     "name": "stdout",
     "output_type": "stream",
     "text": [
      "Learning rate suggerito dal LR finder: 0.0005248074602497723\n",
      "Sanity Checking: |          | 0/? [00:00<?, ?it/s]"
     ]
    },
    {
     "name": "stderr",
     "output_type": "stream",
     "text": [
      "/home/dariodemaio/Documents/Contextual_HLP/.venv/lib/python3.13/site-packages/pytorch_lightning/trainer/connectors/data_connector.py:476: Your `val_dataloader`'s sampler has shuffling enabled, it is strongly recommended that you turn shuffling off for val/test dataloaders.\n"
     ]
    },
    {
     "name": "stdout",
     "output_type": "stream",
     "text": [
      "Epoch 0: 100%|██████████| 7/7 [00:02<00:00,  3.31it/s, v_num=1, train_loss_step=0.367, val_loss=0.587, val_roc_auc=0.864, val_accuracy=0.855, val_precision=0.855, train_loss_epoch=0.466]"
     ]
    },
    {
     "name": "stderr",
     "output_type": "stream",
     "text": [
      "Metric val_loss improved. New best score: 0.587\n"
     ]
    },
    {
     "name": "stdout",
     "output_type": "stream",
     "text": [
      "Epoch 2: 100%|██████████| 7/7 [00:02<00:00,  3.04it/s, v_num=1, train_loss_step=0.246, val_loss=0.580, val_roc_auc=0.889, val_accuracy=0.867, val_precision=0.867, train_loss_epoch=0.272]"
     ]
    },
    {
     "name": "stderr",
     "output_type": "stream",
     "text": [
      "Metric val_loss improved by 0.007 >= min_delta = 0.0. New best score: 0.580\n"
     ]
    },
    {
     "name": "stdout",
     "output_type": "stream",
     "text": [
      "Epoch 3: 100%|██████████| 7/7 [00:02<00:00,  3.00it/s, v_num=1, train_loss_step=0.207, val_loss=0.570, val_roc_auc=0.892, val_accuracy=0.866, val_precision=0.866, train_loss_epoch=0.220]"
     ]
    },
    {
     "name": "stderr",
     "output_type": "stream",
     "text": [
      "Metric val_loss improved by 0.010 >= min_delta = 0.0. New best score: 0.570\n"
     ]
    },
    {
     "name": "stdout",
     "output_type": "stream",
     "text": [
      "Epoch 4: 100%|██████████| 7/7 [00:02<00:00,  3.00it/s, v_num=1, train_loss_step=0.178, val_loss=0.570, val_roc_auc=0.892, val_accuracy=0.865, val_precision=0.865, train_loss_epoch=0.180]"
     ]
    },
    {
     "name": "stderr",
     "output_type": "stream",
     "text": [
      "Metric val_loss improved by 0.000 >= min_delta = 0.0. New best score: 0.570\n"
     ]
    },
    {
     "name": "stdout",
     "output_type": "stream",
     "text": [
      "Epoch 5: 100%|██████████| 7/7 [00:02<00:00,  2.98it/s, v_num=1, train_loss_step=0.146, val_loss=0.564, val_roc_auc=0.899, val_accuracy=0.867, val_precision=0.867, train_loss_epoch=0.152]"
     ]
    },
    {
     "name": "stderr",
     "output_type": "stream",
     "text": [
      "Metric val_loss improved by 0.006 >= min_delta = 0.0. New best score: 0.564\n"
     ]
    },
    {
     "name": "stdout",
     "output_type": "stream",
     "text": [
      "Epoch 6: 100%|██████████| 7/7 [00:02<00:00,  3.05it/s, v_num=1, train_loss_step=0.139, val_loss=0.561, val_roc_auc=0.897, val_accuracy=0.872, val_precision=0.872, train_loss_epoch=0.146]"
     ]
    },
    {
     "name": "stderr",
     "output_type": "stream",
     "text": [
      "Metric val_loss improved by 0.003 >= min_delta = 0.0. New best score: 0.561\n"
     ]
    },
    {
     "name": "stdout",
     "output_type": "stream",
     "text": [
      "Epoch 7: 100%|██████████| 7/7 [00:02<00:00,  3.01it/s, v_num=1, train_loss_step=0.207, val_loss=0.561, val_roc_auc=0.895, val_accuracy=0.873, val_precision=0.873, train_loss_epoch=0.135]"
     ]
    },
    {
     "name": "stderr",
     "output_type": "stream",
     "text": [
      "Metric val_loss improved by 0.000 >= min_delta = 0.0. New best score: 0.561\n"
     ]
    },
    {
     "name": "stdout",
     "output_type": "stream",
     "text": [
      "Epoch 8: 100%|██████████| 7/7 [00:02<00:00,  3.03it/s, v_num=1, train_loss_step=0.141, val_loss=0.559, val_roc_auc=0.894, val_accuracy=0.874, val_precision=0.874, train_loss_epoch=0.126]"
     ]
    },
    {
     "name": "stderr",
     "output_type": "stream",
     "text": [
      "Metric val_loss improved by 0.001 >= min_delta = 0.0. New best score: 0.559\n"
     ]
    },
    {
     "name": "stdout",
     "output_type": "stream",
     "text": [
      "Epoch 10: 100%|██████████| 7/7 [00:02<00:00,  3.03it/s, v_num=1, train_loss_step=0.125, val_loss=0.559, val_roc_auc=0.900, val_accuracy=0.876, val_precision=0.876, train_loss_epoch=0.118] "
     ]
    },
    {
     "name": "stderr",
     "output_type": "stream",
     "text": [
      "Metric val_loss improved by 0.000 >= min_delta = 0.0. New best score: 0.559\n"
     ]
    },
    {
     "name": "stdout",
     "output_type": "stream",
     "text": [
      "Epoch 11: 100%|██████████| 7/7 [00:02<00:00,  3.00it/s, v_num=1, train_loss_step=0.126, val_loss=0.556, val_roc_auc=0.900, val_accuracy=0.879, val_precision=0.879, train_loss_epoch=0.110] "
     ]
    },
    {
     "name": "stderr",
     "output_type": "stream",
     "text": [
      "Metric val_loss improved by 0.003 >= min_delta = 0.0. New best score: 0.556\n"
     ]
    },
    {
     "name": "stdout",
     "output_type": "stream",
     "text": [
      "Epoch 13: 100%|██████████| 7/7 [00:01<00:00,  4.45it/s, v_num=1, train_loss_step=0.109, val_loss=0.558, val_roc_auc=0.899, val_accuracy=0.872, val_precision=0.872, train_loss_epoch=0.106] "
     ]
    },
    {
     "name": "stderr",
     "output_type": "stream",
     "text": [
      "/home/dariodemaio/Documents/Contextual_HLP/.venv/lib/python3.13/site-packages/pytorch_lightning/utilities/data.py:79: Trying to infer the `batch_size` from an ambiguous collection. The batch size we found is 2172. To avoid any miscalculations, use `self.log(..., batch_size=batch_size)`.\n"
     ]
    },
    {
     "name": "stdout",
     "output_type": "stream",
     "text": [
      "Epoch 14: 100%|██████████| 7/7 [00:02<00:00,  3.00it/s, v_num=1, train_loss_step=0.0976, val_loss=0.555, val_roc_auc=0.902, val_accuracy=0.878, val_precision=0.878, train_loss_epoch=0.109]"
     ]
    },
    {
     "name": "stderr",
     "output_type": "stream",
     "text": [
      "Metric val_loss improved by 0.001 >= min_delta = 0.0. New best score: 0.555\n"
     ]
    },
    {
     "name": "stdout",
     "output_type": "stream",
     "text": [
      "Epoch 18: 100%|██████████| 7/7 [00:02<00:00,  2.75it/s, v_num=1, train_loss_step=0.0863, val_loss=0.554, val_roc_auc=0.901, val_accuracy=0.878, val_precision=0.878, train_loss_epoch=0.0782]"
     ]
    },
    {
     "name": "stderr",
     "output_type": "stream",
     "text": [
      "Metric val_loss improved by 0.000 >= min_delta = 0.0. New best score: 0.554\n"
     ]
    },
    {
     "name": "stdout",
     "output_type": "stream",
     "text": [
      "Epoch 21: 100%|██████████| 7/7 [00:01<00:00,  4.59it/s, v_num=1, train_loss_step=0.0799, val_loss=0.555, val_roc_auc=0.900, val_accuracy=0.875, val_precision=0.875, train_loss_epoch=0.0899]"
     ]
    },
    {
     "name": "stderr",
     "output_type": "stream",
     "text": [
      "/home/dariodemaio/Documents/Contextual_HLP/.venv/lib/python3.13/site-packages/pytorch_lightning/utilities/data.py:79: Trying to infer the `batch_size` from an ambiguous collection. The batch size we found is 2182. To avoid any miscalculations, use `self.log(..., batch_size=batch_size)`.\n"
     ]
    },
    {
     "name": "stdout",
     "output_type": "stream",
     "text": [
      "Epoch 22: 100%|██████████| 7/7 [00:02<00:00,  3.16it/s, v_num=1, train_loss_step=0.0792, val_loss=0.553, val_roc_auc=0.902, val_accuracy=0.879, val_precision=0.879, train_loss_epoch=0.0902]"
     ]
    },
    {
     "name": "stderr",
     "output_type": "stream",
     "text": [
      "Metric val_loss improved by 0.001 >= min_delta = 0.0. New best score: 0.553\n"
     ]
    },
    {
     "name": "stdout",
     "output_type": "stream",
     "text": [
      "Epoch 23: 100%|██████████| 7/7 [00:02<00:00,  3.19it/s, v_num=1, train_loss_step=0.0769, val_loss=0.553, val_roc_auc=0.901, val_accuracy=0.883, val_precision=0.883, train_loss_epoch=0.0872]"
     ]
    },
    {
     "name": "stderr",
     "output_type": "stream",
     "text": [
      "Metric val_loss improved by 0.000 >= min_delta = 0.0. New best score: 0.553\n"
     ]
    },
    {
     "name": "stdout",
     "output_type": "stream",
     "text": [
      "Epoch 24:  57%|█████▋    | 4/7 [00:01<00:00,  3.39it/s, v_num=1, train_loss_step=0.124, val_loss=0.553, val_roc_auc=0.901, val_accuracy=0.883, val_precision=0.883, train_loss_epoch=0.0872] "
     ]
    },
    {
     "name": "stderr",
     "output_type": "stream",
     "text": [
      "/home/dariodemaio/Documents/Contextual_HLP/.venv/lib/python3.13/site-packages/pytorch_lightning/utilities/data.py:79: Trying to infer the `batch_size` from an ambiguous collection. The batch size we found is 2173. To avoid any miscalculations, use `self.log(..., batch_size=batch_size)`.\n"
     ]
    },
    {
     "name": "stdout",
     "output_type": "stream",
     "text": [
      "Epoch 29: 100%|██████████| 7/7 [00:02<00:00,  3.19it/s, v_num=1, train_loss_step=0.137, val_loss=0.553, val_roc_auc=0.899, val_accuracy=0.880, val_precision=0.880, train_loss_epoch=0.0766] "
     ]
    },
    {
     "name": "stderr",
     "output_type": "stream",
     "text": [
      "Metric val_loss improved by 0.000 >= min_delta = 0.0. New best score: 0.553\n"
     ]
    },
    {
     "name": "stdout",
     "output_type": "stream",
     "text": [
      "Epoch 30: 100%|██████████| 7/7 [00:02<00:00,  3.09it/s, v_num=1, train_loss_step=0.0818, val_loss=0.552, val_roc_auc=0.903, val_accuracy=0.882, val_precision=0.882, train_loss_epoch=0.0809]"
     ]
    },
    {
     "name": "stderr",
     "output_type": "stream",
     "text": [
      "Metric val_loss improved by 0.000 >= min_delta = 0.0. New best score: 0.552\n"
     ]
    },
    {
     "name": "stdout",
     "output_type": "stream",
     "text": [
      "Epoch 35:  29%|██▊       | 2/7 [00:00<00:02,  2.11it/s, v_num=1, train_loss_step=0.0544, val_loss=0.553, val_roc_auc=0.900, val_accuracy=0.879, val_precision=0.879, train_loss_epoch=0.0737]"
     ]
    },
    {
     "name": "stderr",
     "output_type": "stream",
     "text": [
      "/home/dariodemaio/Documents/Contextual_HLP/.venv/lib/python3.13/site-packages/pytorch_lightning/utilities/data.py:79: Trying to infer the `batch_size` from an ambiguous collection. The batch size we found is 2176. To avoid any miscalculations, use `self.log(..., batch_size=batch_size)`.\n"
     ]
    },
    {
     "name": "stdout",
     "output_type": "stream",
     "text": [
      "Epoch 36: 100%|██████████| 7/7 [00:02<00:00,  3.08it/s, v_num=1, train_loss_step=0.0546, val_loss=0.554, val_roc_auc=0.896, val_accuracy=0.877, val_precision=0.877, train_loss_epoch=0.0736]"
     ]
    },
    {
     "name": "stderr",
     "output_type": "stream",
     "text": [
      "/home/dariodemaio/Documents/Contextual_HLP/.venv/lib/python3.13/site-packages/pytorch_lightning/utilities/data.py:79: Trying to infer the `batch_size` from an ambiguous collection. The batch size we found is 2041. To avoid any miscalculations, use `self.log(..., batch_size=batch_size)`.\n"
     ]
    },
    {
     "name": "stdout",
     "output_type": "stream",
     "text": [
      "Epoch 37: 100%|██████████| 7/7 [00:02<00:00,  3.10it/s, v_num=1, train_loss_step=0.0654, val_loss=0.552, val_roc_auc=0.900, val_accuracy=0.880, val_precision=0.880, train_loss_epoch=0.0613]"
     ]
    },
    {
     "name": "stderr",
     "output_type": "stream",
     "text": [
      "Metric val_loss improved by 0.000 >= min_delta = 0.0. New best score: 0.552\n"
     ]
    },
    {
     "name": "stdout",
     "output_type": "stream",
     "text": [
      "Epoch 38: 100%|██████████| 7/7 [00:02<00:00,  3.15it/s, v_num=1, train_loss_step=0.0776, val_loss=0.553, val_roc_auc=0.903, val_accuracy=0.880, val_precision=0.880, train_loss_epoch=0.0791]"
     ]
    },
    {
     "name": "stderr",
     "output_type": "stream",
     "text": [
      "/home/dariodemaio/Documents/Contextual_HLP/.venv/lib/python3.13/site-packages/pytorch_lightning/utilities/data.py:79: Trying to infer the `batch_size` from an ambiguous collection. The batch size we found is 2196. To avoid any miscalculations, use `self.log(..., batch_size=batch_size)`.\n"
     ]
    },
    {
     "name": "stdout",
     "output_type": "stream",
     "text": [
      "Epoch 40:  71%|███████▏  | 5/7 [00:01<00:00,  3.73it/s, v_num=1, train_loss_step=0.0643, val_loss=0.553, val_roc_auc=0.899, val_accuracy=0.879, val_precision=0.879, train_loss_epoch=0.089] "
     ]
    },
    {
     "name": "stderr",
     "output_type": "stream",
     "text": [
      "/home/dariodemaio/Documents/Contextual_HLP/.venv/lib/python3.13/site-packages/pytorch_lightning/utilities/data.py:79: Trying to infer the `batch_size` from an ambiguous collection. The batch size we found is 2177. To avoid any miscalculations, use `self.log(..., batch_size=batch_size)`.\n"
     ]
    },
    {
     "name": "stdout",
     "output_type": "stream",
     "text": [
      "Epoch 41: 100%|██████████| 7/7 [00:02<00:00,  3.17it/s, v_num=1, train_loss_step=0.0885, val_loss=0.552, val_roc_auc=0.902, val_accuracy=0.881, val_precision=0.881, train_loss_epoch=0.0657]"
     ]
    },
    {
     "name": "stderr",
     "output_type": "stream",
     "text": [
      "/home/dariodemaio/Documents/Contextual_HLP/.venv/lib/python3.13/site-packages/pytorch_lightning/utilities/data.py:79: Trying to infer the `batch_size` from an ambiguous collection. The batch size we found is 2053. To avoid any miscalculations, use `self.log(..., batch_size=batch_size)`.\n",
      "Metric val_loss improved by 0.001 >= min_delta = 0.0. New best score: 0.552\n"
     ]
    },
    {
     "name": "stdout",
     "output_type": "stream",
     "text": [
      "Epoch 42: 100%|██████████| 7/7 [00:01<00:00,  4.46it/s, v_num=1, train_loss_step=0.051, val_loss=0.552, val_roc_auc=0.902, val_accuracy=0.881, val_precision=0.881, train_loss_epoch=0.0657] "
     ]
    },
    {
     "name": "stderr",
     "output_type": "stream",
     "text": [
      "/home/dariodemaio/Documents/Contextual_HLP/.venv/lib/python3.13/site-packages/pytorch_lightning/utilities/data.py:79: Trying to infer the `batch_size` from an ambiguous collection. The batch size we found is 2030. To avoid any miscalculations, use `self.log(..., batch_size=batch_size)`.\n"
     ]
    },
    {
     "name": "stdout",
     "output_type": "stream",
     "text": [
      "Epoch 43: 100%|██████████| 7/7 [00:02<00:00,  3.15it/s, v_num=1, train_loss_step=0.0617, val_loss=0.551, val_roc_auc=0.902, val_accuracy=0.882, val_precision=0.882, train_loss_epoch=0.0719]"
     ]
    },
    {
     "name": "stderr",
     "output_type": "stream",
     "text": [
      "Metric val_loss improved by 0.000 >= min_delta = 0.0. New best score: 0.551\n"
     ]
    },
    {
     "name": "stdout",
     "output_type": "stream",
     "text": [
      "Epoch 49:  43%|████▎     | 3/7 [00:01<00:01,  2.76it/s, v_num=1, train_loss_step=0.0817, val_loss=0.552, val_roc_auc=0.900, val_accuracy=0.882, val_precision=0.882, train_loss_epoch=0.0646]"
     ]
    },
    {
     "name": "stderr",
     "output_type": "stream",
     "text": [
      "/home/dariodemaio/Documents/Contextual_HLP/.venv/lib/python3.13/site-packages/pytorch_lightning/utilities/data.py:79: Trying to infer the `batch_size` from an ambiguous collection. The batch size we found is 2193. To avoid any miscalculations, use `self.log(..., batch_size=batch_size)`.\n"
     ]
    },
    {
     "name": "stdout",
     "output_type": "stream",
     "text": [
      "Epoch 58: 100%|██████████| 7/7 [00:02<00:00,  3.04it/s, v_num=1, train_loss_step=0.0637, val_loss=0.551, val_roc_auc=0.904, val_accuracy=0.885, val_precision=0.885, train_loss_epoch=0.0596]"
     ]
    },
    {
     "name": "stderr",
     "output_type": "stream",
     "text": [
      "Metric val_loss improved by 0.001 >= min_delta = 0.0. New best score: 0.551\n"
     ]
    },
    {
     "name": "stdout",
     "output_type": "stream",
     "text": [
      "Epoch 60:  71%|███████▏  | 5/7 [00:01<00:00,  3.96it/s, v_num=1, train_loss_step=0.0561, val_loss=0.553, val_roc_auc=0.901, val_accuracy=0.876, val_precision=0.876, train_loss_epoch=0.0609]"
     ]
    },
    {
     "name": "stderr",
     "output_type": "stream",
     "text": [
      "/home/dariodemaio/Documents/Contextual_HLP/.venv/lib/python3.13/site-packages/pytorch_lightning/utilities/data.py:79: Trying to infer the `batch_size` from an ambiguous collection. The batch size we found is 2184. To avoid any miscalculations, use `self.log(..., batch_size=batch_size)`.\n"
     ]
    },
    {
     "name": "stdout",
     "output_type": "stream",
     "text": [
      "Epoch 72: 100%|██████████| 7/7 [00:02<00:00,  3.08it/s, v_num=1, train_loss_step=0.0441, val_loss=0.554, val_roc_auc=0.899, val_accuracy=0.875, val_precision=0.875, train_loss_epoch=0.0516]"
     ]
    },
    {
     "name": "stderr",
     "output_type": "stream",
     "text": [
      "/home/dariodemaio/Documents/Contextual_HLP/.venv/lib/python3.13/site-packages/pytorch_lightning/utilities/data.py:79: Trying to infer the `batch_size` from an ambiguous collection. The batch size we found is 2040. To avoid any miscalculations, use `self.log(..., batch_size=batch_size)`.\n"
     ]
    },
    {
     "name": "stdout",
     "output_type": "stream",
     "text": [
      "Epoch 73:  71%|███████▏  | 5/7 [00:01<00:00,  3.87it/s, v_num=1, train_loss_step=0.0429, val_loss=0.554, val_roc_auc=0.899, val_accuracy=0.875, val_precision=0.875, train_loss_epoch=0.0516]"
     ]
    },
    {
     "name": "stderr",
     "output_type": "stream",
     "text": [
      "/home/dariodemaio/Documents/Contextual_HLP/.venv/lib/python3.13/site-packages/pytorch_lightning/utilities/data.py:79: Trying to infer the `batch_size` from an ambiguous collection. The batch size we found is 2039. To avoid any miscalculations, use `self.log(..., batch_size=batch_size)`.\n"
     ]
    },
    {
     "name": "stdout",
     "output_type": "stream",
     "text": [
      "Epoch 73: 100%|██████████| 7/7 [00:02<00:00,  3.13it/s, v_num=1, train_loss_step=0.0452, val_loss=0.555, val_roc_auc=0.896, val_accuracy=0.875, val_precision=0.875, train_loss_epoch=0.0479]"
     ]
    },
    {
     "name": "stderr",
     "output_type": "stream",
     "text": [
      "/home/dariodemaio/Documents/Contextual_HLP/.venv/lib/python3.13/site-packages/pytorch_lightning/utilities/data.py:79: Trying to infer the `batch_size` from an ambiguous collection. The batch size we found is 2049. To avoid any miscalculations, use `self.log(..., batch_size=batch_size)`.\n"
     ]
    },
    {
     "name": "stdout",
     "output_type": "stream",
     "text": [
      "Epoch 74:  71%|███████▏  | 5/7 [00:01<00:00,  3.93it/s, v_num=1, train_loss_step=0.0288, val_loss=0.555, val_roc_auc=0.896, val_accuracy=0.875, val_precision=0.875, train_loss_epoch=0.0479]"
     ]
    },
    {
     "name": "stderr",
     "output_type": "stream",
     "text": [
      "/home/dariodemaio/Documents/Contextual_HLP/.venv/lib/python3.13/site-packages/pytorch_lightning/utilities/data.py:79: Trying to infer the `batch_size` from an ambiguous collection. The batch size we found is 2018. To avoid any miscalculations, use `self.log(..., batch_size=batch_size)`.\n",
      "/home/dariodemaio/Documents/Contextual_HLP/.venv/lib/python3.13/site-packages/pytorch_lightning/utilities/data.py:79: Trying to infer the `batch_size` from an ambiguous collection. The batch size we found is 2190. To avoid any miscalculations, use `self.log(..., batch_size=batch_size)`.\n"
     ]
    },
    {
     "name": "stdout",
     "output_type": "stream",
     "text": [
      "Epoch 75: 100%|██████████| 7/7 [00:02<00:00,  3.13it/s, v_num=1, train_loss_step=0.0313, val_loss=0.550, val_roc_auc=0.908, val_accuracy=0.886, val_precision=0.886, train_loss_epoch=0.0663]"
     ]
    },
    {
     "name": "stderr",
     "output_type": "stream",
     "text": [
      "Metric val_loss improved by 0.000 >= min_delta = 0.0. New best score: 0.550\n"
     ]
    },
    {
     "name": "stdout",
     "output_type": "stream",
     "text": [
      "Epoch 79: 100%|██████████| 7/7 [00:02<00:00,  3.15it/s, v_num=1, train_loss_step=0.0602, val_loss=0.553, val_roc_auc=0.899, val_accuracy=0.879, val_precision=0.879, train_loss_epoch=0.0539]"
     ]
    },
    {
     "name": "stderr",
     "output_type": "stream",
     "text": [
      "/home/dariodemaio/Documents/Contextual_HLP/.venv/lib/python3.13/site-packages/pytorch_lightning/utilities/data.py:79: Trying to infer the `batch_size` from an ambiguous collection. The batch size we found is 2042. To avoid any miscalculations, use `self.log(..., batch_size=batch_size)`.\n"
     ]
    },
    {
     "name": "stdout",
     "output_type": "stream",
     "text": [
      "Epoch 87: 100%|██████████| 7/7 [00:02<00:00,  3.09it/s, v_num=1, train_loss_step=0.0423, val_loss=0.550, val_roc_auc=0.902, val_accuracy=0.884, val_precision=0.884, train_loss_epoch=0.0629]"
     ]
    },
    {
     "name": "stderr",
     "output_type": "stream",
     "text": [
      "Metric val_loss improved by 0.000 >= min_delta = 0.0. New best score: 0.550\n"
     ]
    },
    {
     "name": "stdout",
     "output_type": "stream",
     "text": [
      "Epoch 90: 100%|██████████| 7/7 [00:02<00:00,  3.13it/s, v_num=1, train_loss_step=0.0392, val_loss=0.552, val_roc_auc=0.904, val_accuracy=0.881, val_precision=0.881, train_loss_epoch=0.0617]"
     ]
    },
    {
     "name": "stderr",
     "output_type": "stream",
     "text": [
      "/home/dariodemaio/Documents/Contextual_HLP/.venv/lib/python3.13/site-packages/pytorch_lightning/utilities/data.py:79: Trying to infer the `batch_size` from an ambiguous collection. The batch size we found is 2206. To avoid any miscalculations, use `self.log(..., batch_size=batch_size)`.\n"
     ]
    },
    {
     "name": "stdout",
     "output_type": "stream",
     "text": [
      "Epoch 91: 100%|██████████| 7/7 [00:02<00:00,  3.13it/s, v_num=1, train_loss_step=0.0483, val_loss=0.550, val_roc_auc=0.908, val_accuracy=0.886, val_precision=0.886, train_loss_epoch=0.0613]"
     ]
    },
    {
     "name": "stderr",
     "output_type": "stream",
     "text": [
      "Metric val_loss improved by 0.000 >= min_delta = 0.0. New best score: 0.550\n"
     ]
    },
    {
     "name": "stdout",
     "output_type": "stream",
     "text": [
      "Epoch 106:  86%|████████▌ | 6/7 [00:01<00:00,  4.33it/s, v_num=1, train_loss_step=0.0475, val_loss=0.554, val_roc_auc=0.901, val_accuracy=0.880, val_precision=0.880, train_loss_epoch=0.0566]"
     ]
    },
    {
     "name": "stderr",
     "output_type": "stream",
     "text": [
      "/home/dariodemaio/Documents/Contextual_HLP/.venv/lib/python3.13/site-packages/pytorch_lightning/utilities/data.py:79: Trying to infer the `batch_size` from an ambiguous collection. The batch size we found is 2025. To avoid any miscalculations, use `self.log(..., batch_size=batch_size)`.\n"
     ]
    },
    {
     "name": "stdout",
     "output_type": "stream",
     "text": [
      "Epoch 108: 100%|██████████| 7/7 [00:02<00:00,  3.12it/s, v_num=1, train_loss_step=0.0405, val_loss=0.553, val_roc_auc=0.902, val_accuracy=0.877, val_precision=0.877, train_loss_epoch=0.0491]"
     ]
    },
    {
     "name": "stderr",
     "output_type": "stream",
     "text": [
      "/home/dariodemaio/Documents/Contextual_HLP/.venv/lib/python3.13/site-packages/pytorch_lightning/utilities/data.py:79: Trying to infer the `batch_size` from an ambiguous collection. The batch size we found is 2037. To avoid any miscalculations, use `self.log(..., batch_size=batch_size)`.\n"
     ]
    },
    {
     "name": "stdout",
     "output_type": "stream",
     "text": [
      "Epoch 111: 100%|██████████| 7/7 [00:02<00:00,  3.09it/s, v_num=1, train_loss_step=0.0345, val_loss=0.552, val_roc_auc=0.908, val_accuracy=0.882, val_precision=0.882, train_loss_epoch=0.0505]"
     ]
    },
    {
     "name": "stderr",
     "output_type": "stream",
     "text": [
      "/home/dariodemaio/Documents/Contextual_HLP/.venv/lib/python3.13/site-packages/pytorch_lightning/utilities/data.py:79: Trying to infer the `batch_size` from an ambiguous collection. The batch size we found is 2016. To avoid any miscalculations, use `self.log(..., batch_size=batch_size)`.\n",
      "/home/dariodemaio/Documents/Contextual_HLP/.venv/lib/python3.13/site-packages/pytorch_lightning/utilities/data.py:79: Trying to infer the `batch_size` from an ambiguous collection. The batch size we found is 2194. To avoid any miscalculations, use `self.log(..., batch_size=batch_size)`.\n"
     ]
    },
    {
     "name": "stdout",
     "output_type": "stream",
     "text": [
      "Epoch 121:  86%|████████▌ | 6/7 [00:01<00:00,  4.37it/s, v_num=1, train_loss_step=0.0583, val_loss=0.552, val_roc_auc=0.904, val_accuracy=0.880, val_precision=0.880, train_loss_epoch=0.0537]"
     ]
    },
    {
     "name": "stderr",
     "output_type": "stream",
     "text": [
      "/home/dariodemaio/Documents/Contextual_HLP/.venv/lib/python3.13/site-packages/pytorch_lightning/utilities/data.py:79: Trying to infer the `batch_size` from an ambiguous collection. The batch size we found is 2050. To avoid any miscalculations, use `self.log(..., batch_size=batch_size)`.\n"
     ]
    },
    {
     "name": "stdout",
     "output_type": "stream",
     "text": [
      "Epoch 139: 100%|██████████| 7/7 [00:02<00:00,  3.22it/s, v_num=1, train_loss_step=0.0348, val_loss=0.550, val_roc_auc=0.906, val_accuracy=0.885, val_precision=0.885, train_loss_epoch=0.0432]"
     ]
    },
    {
     "name": "stderr",
     "output_type": "stream",
     "text": [
      "Metric val_loss improved by 0.000 >= min_delta = 0.0. New best score: 0.550\n"
     ]
    },
    {
     "name": "stdout",
     "output_type": "stream",
     "text": [
      "Epoch 158:  86%|████████▌ | 6/7 [00:01<00:00,  4.40it/s, v_num=1, train_loss_step=0.0396, val_loss=0.554, val_roc_auc=0.900, val_accuracy=0.877, val_precision=0.877, train_loss_epoch=0.044] "
     ]
    },
    {
     "name": "stderr",
     "output_type": "stream",
     "text": [
      "/home/dariodemaio/Documents/Contextual_HLP/.venv/lib/python3.13/site-packages/pytorch_lightning/utilities/data.py:79: Trying to infer the `batch_size` from an ambiguous collection. The batch size we found is 2187. To avoid any miscalculations, use `self.log(..., batch_size=batch_size)`.\n"
     ]
    },
    {
     "name": "stdout",
     "output_type": "stream",
     "text": [
      "Epoch 162:  29%|██▊       | 2/7 [00:00<00:02,  2.10it/s, v_num=1, train_loss_step=0.0365, val_loss=0.553, val_roc_auc=0.901, val_accuracy=0.875, val_precision=0.875, train_loss_epoch=0.0475]"
     ]
    },
    {
     "name": "stderr",
     "output_type": "stream",
     "text": [
      "/home/dariodemaio/Documents/Contextual_HLP/.venv/lib/python3.13/site-packages/pytorch_lightning/utilities/data.py:79: Trying to infer the `batch_size` from an ambiguous collection. The batch size we found is 2191. To avoid any miscalculations, use `self.log(..., batch_size=batch_size)`.\n"
     ]
    },
    {
     "name": "stdout",
     "output_type": "stream",
     "text": [
      "Epoch 189: 100%|██████████| 7/7 [00:02<00:00,  3.06it/s, v_num=1, train_loss_step=0.0508, val_loss=0.553, val_roc_auc=0.902, val_accuracy=0.877, val_precision=0.877, train_loss_epoch=0.0412]"
     ]
    },
    {
     "name": "stderr",
     "output_type": "stream",
     "text": [
      "Monitored metric val_loss did not improve in the last 50 records. Best score: 0.550. Signaling Trainer to stop.\n"
     ]
    },
    {
     "name": "stdout",
     "output_type": "stream",
     "text": [
      "Epoch 189: 100%|██████████| 7/7 [00:02<00:00,  2.80it/s, v_num=1, train_loss_step=0.0508, val_loss=0.553, val_roc_auc=0.902, val_accuracy=0.877, val_precision=0.877, train_loss_epoch=0.0412]\n"
     ]
    },
    {
     "data": {
      "image/png": "[encoded data removed]",
      "text/plain": [
       "<Figure size 640x480 with 1 Axes>"
      ]
     },
     "metadata": {},
     "output_type": "display_data"
    }
   ],
   "source": [
    "train_loader = DataLoader(\n",
    "    train_dataset,\n",
    "    collate_fn=collate_fn,\n",
    "    batch_size=512,\n",
    "    num_workers=8,\n",
    "    pin_memory=True,\n",
    "    shuffle=True,\n",
    "    drop_last=True\n",
    ")\n",
    "\n",
    "validation_dataloader = DataLoader(\n",
    "    validation_dataset,\n",
    "    collate_fn=collate_fn,\n",
    "    batch_size=512,\n",
    "    num_workers=8,\n",
    "    pin_memory=True,\n",
    "    shuffle=True,\n",
    "    drop_last=True\n",
    ")\n",
    "\n",
    "in_channels = dataset.num_features\n",
    "hidden_channels = in_channels\n",
    "out_channels = 1\n",
    "\n",
    "model = Model(\n",
    "    in_channels,\n",
    "    hidden_channels,\n",
    "    out_channels,\n",
    "    1,\n",
    ")\n",
    "\n",
    "lightning_model = LitCHLPModel(model)\n",
    "\n",
    "trainer = Trainer(\n",
    "    max_epochs=10,\n",
    "    accelerator='gpu',\n",
    "    devices=1,\n",
    "    log_every_n_steps=1,\n",
    "    callbacks=[early_stop_callback]\n",
    ")\n",
    "\n",
    "tuner = Tuner(trainer)\n",
    "\n",
    "lr_finder = tuner.lr_find(\n",
    "    lightning_model,\n",
    "    train_dataloaders=train_loader,\n",
    "    val_dataloaders=validation_dataloader,\n",
    ")\n",
    "\n",
    "fig = lr_finder.plot(suggest=True)\n",
    "fig.show()\n",
    "\n",
    "new_lr = lr_finder.suggestion()\n",
    "print(f\"Learning rate suggerito dal LR finder: {new_lr}\")\n",
    "\n",
    "lightning_model.lr = new_lr\n",
    "\n",
    "trainer = Trainer(\n",
    "    max_epochs=1200,\n",
    "    accelerator='gpu',\n",
    "    devices=1,\n",
    "    log_every_n_steps=1,\n",
    "    callbacks=[early_stop_callback]\n",
    ")\n",
    "\n",
    "trainer.fit(lightning_model, train_loader, validation_dataloader)\n"
   ]
  },
  {
   "cell_type": "code",
   "execution_count": 22,
   "id": "fbe7ee5e",
   "metadata": {},
   "outputs": [],
   "source": [
    "# early_stop_callback = EarlyStopping(\n",
    "#     monitor=\"val_loss\",\n",
    "#     patience=50,\n",
    "#     verbose=True,\n",
    "#     mode=\"min\"\n",
    "# )\n",
    "\n",
    "# temp_dataset = IMDBHypergraphDataset(\"./data\", pre_transform=pre_transform, transform=transform, force_reload=True)\n",
    "\n",
    "# in_channels = temp_dataset.num_features\n",
    "# hidden_channels = in_channels\n",
    "# out_channels = 1\n",
    "\n",
    "# model = Model(\n",
    "#     in_channels,\n",
    "#     hidden_channels,\n",
    "#     out_channels,\n",
    "#     1,\n",
    "# )\n",
    "\n",
    "# lightning_model = LitCHLPModel(model)\n",
    "\n",
    "# data_module = CHLPDataModule(IMDBHypergraphDataset)\n",
    "\n",
    "# trainer = Trainer(\n",
    "#     max_epochs=1200,\n",
    "#     accelerator='gpu',\n",
    "#     devices=1,\n",
    "#     log_every_n_steps=1,\n",
    "#     callbacks=[early_stop_callback]\n",
    "# )\n",
    "\n",
    "# trainer.fit(lightning_model, datamodule=data_module)\n"
   ]
  }
 ],
 "metadata": {
  "kernelspec": {
   "display_name": ".venv",
   "language": "python",
   "name": "python3"
  },
  "language_info": {
   "codemirror_mode": {
    "name": "ipython",
    "version": 3
   },
   "file_extension": ".py",
   "mimetype": "text/x-python",
   "name": "python",
   "nbconvert_exporter": "python",
   "pygments_lexer": "ipython3",
   "version": "3.13.3"
  }
 },
 "nbformat": 4,
 "nbformat_minor": 5
}
