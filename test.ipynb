{
 "cells": [
  {
   "cell_type": "code",
   "execution_count": 1,
   "metadata": {},
   "outputs": [
    {
     "name": "stderr",
     "output_type": "stream",
     "text": [
      "/home/dariodemaio/Documents/Contextual_HLP/.venv/lib/python3.13/site-packages/tqdm/auto.py:21: TqdmWarning: IProgress not found. Please update jupyter and ipywidgets. See https://ipywidgets.readthedocs.io/en/stable/user_install.html\n",
      "  from .autonotebook import tqdm as notebook_tqdm\n"
     ]
    }
   ],
   "source": [
    "import torch\n",
    "import torch.nn as nn\n",
    "from datasets import IMDBHypergraphDataset, collate_fn, train_test_split, ARXIVHypergraphDataset, COURSERAHypergraphDataset\n",
    "from torch.utils.data import DataLoader\n",
    "from torch_geometric.nn import HypergraphConv\n",
    "import matplotlib.pyplot as plt\n",
    "from tqdm.auto import trange, tqdm\n",
    "from torch_geometric.data.hypergraph_data import HyperGraphData\n",
    "from torch_geometric.nn.aggr import MeanAggregation\n",
    "from sklearn.metrics import confusion_matrix, roc_auc_score\n",
    "from torch.utils.tensorboard import SummaryWriter"
   ]
  },
  {
   "cell_type": "code",
   "execution_count": 2,
   "metadata": {},
   "outputs": [],
   "source": [
    "from sklearn.metrics import roc_curve\n",
    "import numpy as np\n",
    "\n",
    "def sensivity_specificity_cutoff(y_true, y_score):\n",
    "    fpr, tpr, thresholds = roc_curve(y_true, y_score)\n",
    "    idx = np.argmax(tpr - fpr)\n",
    "    return thresholds[idx]"
   ]
  },
  {
   "cell_type": "code",
   "execution_count": 3,
   "metadata": {},
   "outputs": [
    {
     "data": {
      "text/plain": [
       "device(type='cuda')"
      ]
     },
     "execution_count": 3,
     "metadata": {},
     "output_type": "execute_result"
    }
   ],
   "source": [
    "device = torch.device('cuda' if torch.cuda.is_available() else 'cpu')\n",
    "device"
   ]
  },
  {
   "cell_type": "markdown",
   "metadata": {},
   "source": [
    "## Load the Dataset"
   ]
  },
  {
   "cell_type": "code",
   "execution_count": 4,
   "metadata": {},
   "outputs": [],
   "source": [
    "def pre_transform(data: HyperGraphData):\n",
    "    data.edge_index = data.edge_index[:, torch.isin(data.edge_index[1], (data.edge_index[1].bincount() > 1).nonzero())]\n",
    "    unique, inverse = data.edge_index[1].unique(return_inverse=True)\n",
    "    data.edge_attr = data.edge_attr[unique]\n",
    "    data.edge_index[1] = inverse\n",
    "    return data"
   ]
  },
  {
   "cell_type": "code",
   "execution_count": 5,
   "metadata": {},
   "outputs": [],
   "source": [
    "dataset = COURSERAHypergraphDataset(\"./data\", pre_transform=pre_transform)\n",
    "train_dataset, test_dataset, _, _, _, _ = train_test_split(dataset, test_size=0.4)\n",
    "# Train dataset is for train\n",
    "# Test indices for evaluation (the forward pass is performed on the whole network)"
   ]
  },
  {
   "cell_type": "code",
   "execution_count": 6,
   "metadata": {},
   "outputs": [],
   "source": [
    "from random import randint\n",
    "writer = SummaryWriter(f\"./logs/{dataset.DATASET_NAME}/{randint(0, 10000)}/\")"
   ]
  },
  {
   "cell_type": "code",
   "execution_count": 7,
   "metadata": {},
   "outputs": [],
   "source": [
    "# dataset._data.x = torch.randn_like(dataset._data.x)\n",
    "# dataset._data.edge_attr = torch.randn_like(dataset._data.edge_attr)"
   ]
  },
  {
   "cell_type": "markdown",
   "metadata": {},
   "source": [
    "## Training"
   ]
  },
  {
   "cell_type": "code",
   "execution_count": 8,
   "metadata": {},
   "outputs": [],
   "source": [
    "loader = DataLoader(\n",
    "    train_dataset,\n",
    "    collate_fn=collate_fn,\n",
    "    batch_size=100,\n",
    "    num_workers=8,        # Uncomment for faster loading\n",
    "    pin_memory=True,      # Uncomment for faster loading\n",
    "    shuffle=True,\n",
    "    drop_last=True\n",
    ")"
   ]
  },
  {
   "cell_type": "markdown",
   "metadata": {},
   "source": [
    "### Initalize the model"
   ]
  },
  {
   "cell_type": "code",
   "execution_count": 9,
   "metadata": {},
   "outputs": [],
   "source": [
    "class Model(nn.Module):\n",
    "    \n",
    "    def __init__(self,\n",
    "                 in_channels: int,\n",
    "                 hidden_channels: int,\n",
    "                 out_channels: int,\n",
    "                 num_layers: int = 1):\n",
    "        super(Model, self).__init__()\n",
    "        self.dropout = nn.Dropout(0.3)\n",
    "        self.activation = nn.LeakyReLU()\n",
    "        self.in_norm = nn.LayerNorm(in_channels)\n",
    "        self.in_proj = nn.Linear(in_channels, hidden_channels)\n",
    "        self.e_proj = nn.Linear(in_channels, hidden_channels)\n",
    "        self.e_norm = nn.LayerNorm(in_channels)\n",
    "\n",
    "        for i in range(num_layers):\n",
    "            setattr(self, f\"n_norm_{i}\", nn.LayerNorm(hidden_channels))\n",
    "            setattr(self, f\"e_norm_{i}\", nn.LayerNorm(hidden_channels))\n",
    "            setattr(self, f\"hgconv_{i}\", HypergraphConv(\n",
    "                hidden_channels,\n",
    "                hidden_channels,\n",
    "                use_attention=True,\n",
    "                concat=False,\n",
    "                heads=1\n",
    "            ))\n",
    "            setattr(self, f\"skip_{i}\", nn.Linear(hidden_channels, hidden_channels))\n",
    "        self.num_layers = num_layers\n",
    "\n",
    "        self.aggr = MeanAggregation()\n",
    "        self.linear = nn.Linear(hidden_channels, out_channels)\n",
    "\n",
    "    def forward(self, x, x_e, edge_index):\n",
    "        x = self.in_norm(x)\n",
    "        x = self.in_proj(x)\n",
    "        x = self.activation(x)\n",
    "        x = self.dropout(x)\n",
    "\n",
    "        x_e = self.e_norm(x_e)\n",
    "        x_e = self.e_proj(x_e)\n",
    "        x_e = self.activation(x_e)\n",
    "        x_e = self.dropout(x_e)\n",
    "\n",
    "        for i in range(self.num_layers):\n",
    "            n_norm = getattr(self, f\"n_norm_{i}\")\n",
    "            e_norm = getattr(self, f\"e_norm_{i}\")\n",
    "            hgconv = getattr(self, f\"hgconv_{i}\")\n",
    "            skip = getattr(self, f\"skip_{i}\")\n",
    "            x = n_norm(x)\n",
    "            x_e = e_norm(x_e)\n",
    "            x = self.activation(hgconv(x, edge_index, hyperedge_attr=x_e)) + \\\n",
    "                skip(x)\n",
    "\n",
    "        x = self.aggr(x[edge_index[0]], edge_index[1])\n",
    "        x = self.linear(x)\n",
    "        return x"
   ]
  },
  {
   "cell_type": "code",
   "execution_count": 16,
   "metadata": {},
   "outputs": [],
   "source": [
    "model = Model(\n",
    "    in_channels=dataset.num_features,\n",
    "    hidden_channels=256,\n",
    "    out_channels=1\n",
    ").to(device)\n",
    "optimizer = torch.optim.Adam(model.parameters(), lr=0.00001)\n",
    "criterion = torch.nn.BCEWithLogitsLoss()\n",
    "test_criterion = torch.nn.BCELoss()"
   ]
  },
  {
   "cell_type": "code",
   "execution_count": 17,
   "metadata": {},
   "outputs": [],
   "source": [
    "def negative_sampling(h: HyperGraphData):\n",
    "    edge_index = h.edge_index.clone()\n",
    "    edge_index[0] = torch.randint(0, h.num_nodes, (edge_index[1].shape[0], ), device=h.x.device)\n",
    "    h_edge_attr = torch.vstack((h.edge_attr, h.edge_attr))\n",
    "    h.y = torch.vstack((\n",
    "        torch.ones((h.edge_index[1].max() + 1, 1), device=h.x.device),\n",
    "        torch.zeros((edge_index[1].max() + 1, 1), device=h.x.device),\n",
    "    ))\n",
    "    edge_index[1] += edge_index[1].max() + 1\n",
    "    edge_index = torch.hstack((h.edge_index, edge_index))\n",
    "    h_ = HyperGraphData(\n",
    "        x=h.x,\n",
    "        edge_index=edge_index,\n",
    "        edge_attr=h_edge_attr,\n",
    "        y=h.y,\n",
    "        num_nodes=h.num_nodes,\n",
    "    )\n",
    "    return h_"
   ]
  },
  {
   "cell_type": "code",
   "execution_count": 20,
   "metadata": {},
   "outputs": [
    {
     "name": "stderr",
     "output_type": "stream",
     "text": [
      "100%|██████████| 10/10 [00:03<00:00,  3.05it/s]\n"
     ]
    }
   ],
   "source": [
    "test_dataset_ = negative_sampling(test_dataset._data).to(device)\n",
    "for epoch in trange(10):\n",
    "    model.train()\n",
    "    # 1. Zero gradients\n",
    "    optimizer.zero_grad()\n",
    "    for i, h in tqdm(enumerate(loader), leave=False):\n",
    "        h = h.to(device)\n",
    "        h_ = negative_sampling(h)\n",
    "        y_train = model(h_.x, h_.edge_attr, h_.edge_index)\n",
    "        loss = criterion(y_train, h_.y)\n",
    "        loss.backward()\n",
    "        writer.add_scalar(\"Loss/train\", loss.item(), epoch * len(loader) + i)\n",
    "    optimizer.step()\n",
    "\n",
    "    model.eval()\n",
    "    with torch.no_grad():\n",
    "        y_test = model(test_dataset_.x.to(device), test_dataset_.edge_attr.to(device), test_dataset_.edge_index.to(device)) # The test forward is performed on the whole network\n",
    "        y_test = torch.sigmoid(y_test)\n",
    "        loss = test_criterion(y_test, test_dataset_.y)\n",
    "        writer.add_scalar(\"Loss/test\", loss.item(), epoch)\n",
    "        roc_auc = roc_auc_score(test_dataset_.y.cpu().numpy(), y_test.cpu().numpy())\n",
    "        writer.add_scalar(\"ROC_AUC/test\", roc_auc, epoch)"
   ]
  },
  {
   "cell_type": "code",
   "execution_count": null,
   "metadata": {},
   "outputs": [],
   "source": [
    "torch.save(model, 'entire_model.pth')"
   ]
  },
  {
   "cell_type": "markdown",
   "metadata": {},
   "source": [
    "## Evaluation"
   ]
  },
  {
   "cell_type": "code",
   "execution_count": 19,
   "metadata": {},
   "outputs": [
    {
     "data": {
      "text/plain": [
       "<Axes: >"
      ]
     },
     "execution_count": 19,
     "metadata": {},
     "output_type": "execute_result"
    },
    {
     "data": {
      "image/png": "[encoded data removed]",
      "text/plain": [
       "<Figure size 640x480 with 2 Axes>"
      ]
     },
     "metadata": {},
     "output_type": "display_data"
    }
   ],
   "source": [
    "import seaborn as sns\n",
    "\n",
    "cutoff = sensivity_specificity_cutoff(test_dataset_.y.cpu().numpy(), y_test.cpu().numpy())\n",
    "cm = confusion_matrix(\n",
    "    test_dataset_.y.cpu().numpy(),\n",
    "    (y_test > cutoff).cpu().numpy(),\n",
    "    labels=[0, 1],\n",
    "    normalize='true'\n",
    ")\n",
    "sns.heatmap(cm, annot=True, cmap='Blues', xticklabels=['Negative', 'Positive'], yticklabels=['Negative', 'Positive'])"
   ]
  },
  {
   "cell_type": "markdown",
   "metadata": {},
   "source": [
    "## Evaluation"
   ]
  },
  {
   "cell_type": "code",
   "execution_count": null,
   "metadata": {},
   "outputs": [
    {
     "ename": "AttributeError",
     "evalue": "Can't get local object 'train_test_split.<locals>.TestDataset'",
     "output_type": "error",
     "traceback": [
      "\u001b[31m---------------------------------------------------------------------------\u001b[39m",
      "\u001b[31mAttributeError\u001b[39m                            Traceback (most recent call last)",
      "\u001b[36mCell\u001b[39m\u001b[36m \u001b[39m\u001b[32mIn[15]\u001b[39m\u001b[32m, line 1\u001b[39m\n\u001b[32m----> \u001b[39m\u001b[32m1\u001b[39m \u001b[43mtorch\u001b[49m\u001b[43m.\u001b[49m\u001b[43msave\u001b[49m\u001b[43m(\u001b[49m\u001b[43mtest_dataset\u001b[49m\u001b[43m,\u001b[49m\u001b[43m \u001b[49m\u001b[33;43m'\u001b[39;49m\u001b[33;43mtest_dataset.pth\u001b[39;49m\u001b[33;43m'\u001b[39;49m\u001b[43m)\u001b[49m\n",
      "\u001b[36mFile \u001b[39m\u001b[32m~/Documents/Contextual_HLP/.venv/lib/python3.13/site-packages/torch/serialization.py:965\u001b[39m, in \u001b[36msave\u001b[39m\u001b[34m(obj, f, pickle_module, pickle_protocol, _use_new_zipfile_serialization, _disable_byteorder_record)\u001b[39m\n\u001b[32m    963\u001b[39m \u001b[38;5;28;01mif\u001b[39;00m _use_new_zipfile_serialization:\n\u001b[32m    964\u001b[39m     \u001b[38;5;28;01mwith\u001b[39;00m _open_zipfile_writer(f) \u001b[38;5;28;01mas\u001b[39;00m opened_zipfile:\n\u001b[32m--> \u001b[39m\u001b[32m965\u001b[39m         \u001b[43m_save\u001b[49m\u001b[43m(\u001b[49m\n\u001b[32m    966\u001b[39m \u001b[43m            \u001b[49m\u001b[43mobj\u001b[49m\u001b[43m,\u001b[49m\n\u001b[32m    967\u001b[39m \u001b[43m            \u001b[49m\u001b[43mopened_zipfile\u001b[49m\u001b[43m,\u001b[49m\n\u001b[32m    968\u001b[39m \u001b[43m            \u001b[49m\u001b[43mpickle_module\u001b[49m\u001b[43m,\u001b[49m\n\u001b[32m    969\u001b[39m \u001b[43m            \u001b[49m\u001b[43mpickle_protocol\u001b[49m\u001b[43m,\u001b[49m\n\u001b[32m    970\u001b[39m \u001b[43m            \u001b[49m\u001b[43m_disable_byteorder_record\u001b[49m\u001b[43m,\u001b[49m\n\u001b[32m    971\u001b[39m \u001b[43m        \u001b[49m\u001b[43m)\u001b[49m\n\u001b[32m    972\u001b[39m         \u001b[38;5;28;01mreturn\u001b[39;00m\n\u001b[32m    973\u001b[39m \u001b[38;5;28;01melse\u001b[39;00m:\n",
      "\u001b[36mFile \u001b[39m\u001b[32m~/Documents/Contextual_HLP/.venv/lib/python3.13/site-packages/torch/serialization.py:1211\u001b[39m, in \u001b[36m_save\u001b[39m\u001b[34m(obj, zip_file, pickle_module, pickle_protocol, _disable_byteorder_record)\u001b[39m\n\u001b[32m   1208\u001b[39m         \u001b[38;5;28;01mreturn\u001b[39;00m persistent_id(obj)\n\u001b[32m   1210\u001b[39m pickler = PyTorchPickler(data_buf, protocol=pickle_protocol)\n\u001b[32m-> \u001b[39m\u001b[32m1211\u001b[39m \u001b[43mpickler\u001b[49m\u001b[43m.\u001b[49m\u001b[43mdump\u001b[49m\u001b[43m(\u001b[49m\u001b[43mobj\u001b[49m\u001b[43m)\u001b[49m\n\u001b[32m   1212\u001b[39m data_value = data_buf.getvalue()\n\u001b[32m   1213\u001b[39m zip_file.write_record(\u001b[33m\"\u001b[39m\u001b[33mdata.pkl\u001b[39m\u001b[33m\"\u001b[39m, data_value, \u001b[38;5;28mlen\u001b[39m(data_value))\n",
      "\u001b[31mAttributeError\u001b[39m: Can't get local object 'train_test_split.<locals>.TestDataset'"
     ]
    }
   ],
   "source": [
    "torch.save(test_dataset, 'test_dataset.pth')"
   ]
  },
  {
   "cell_type": "code",
   "execution_count": null,
   "metadata": {},
   "outputs": [],
   "source": [
    "torch.save(train_dataset, 'train_dataset.pth')"
   ]
  },
  {
   "cell_type": "code",
   "execution_count": null,
   "metadata": {},
   "outputs": [],
   "source": [
    "torch.save(loader, 'loader.pth')"
   ]
  },
  {
   "cell_type": "code",
   "execution_count": null,
   "metadata": {},
   "outputs": [
    {
     "name": "stdout",
     "output_type": "stream",
     "text": [
      "0.8284078220887882\n",
      "0.8244632708964201\n",
      "0.8270478599582132\n",
      "0.8270715366340654\n",
      "0.8250100013507919\n",
      "0.8288865338828547\n",
      "0.8280987389655856\n",
      "0.8245213770067454\n",
      "0.8267536998327248\n",
      "0.828201760654126\n",
      "0.8281269491565808\n",
      "0.8271206829973824\n",
      "0.8260570394043789\n",
      "0.8273067419429025\n",
      "0.8265697398154901\n",
      "0.826025685069798\n",
      "0.8274246813181038\n",
      "0.8293747779554814\n",
      "0.8263814194234519\n"
     ]
    }
   ],
   "source": [
    "for i in range(19):\n",
    "    test_dataset_ = negative_sampling(test_dataset)\n",
    "    y_test = model(test_dataset_.x.to(device), test_dataset_.edge_attr.to(device), test_dataset_.edge_index.to(device)) # The test forward is performed on the whole network\n",
    "    y_test = torch.sigmoid(y_test)\n",
    "    roc_auc = roc_auc_score(test_dataset_.y.cpu().numpy(), y_test.detach().cpu().numpy())\n",
    "    print(roc_auc)"
   ]
  },
  {
   "cell_type": "code",
   "execution_count": null,
   "metadata": {},
   "outputs": [],
   "source": []
  }
 ],
 "metadata": {
  "kernelspec": {
   "display_name": ".venv",
   "language": "python",
   "name": "python3"
  },
  "language_info": {
   "codemirror_mode": {
    "name": "ipython",
    "version": 3
   },
   "file_extension": ".py",
   "mimetype": "text/x-python",
   "name": "python",
   "nbconvert_exporter": "python",
   "pygments_lexer": "ipython3",
   "version": "3.13.3"
  }
 },
 "nbformat": 4,
 "nbformat_minor": 2
}
