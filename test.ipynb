{
 "cells": [
  {
   "cell_type": "code",
   "execution_count": 1,
   "metadata": {},
   "outputs": [],
   "source": [
    "!pip install gdown tensorboard==2.19.0 tensorboard-data-server==0.7.2 standard-imghdr scikit-learn"
   ]
  },
  {
   "cell_type": "code",
   "execution_count": 2,
   "metadata": {},
   "outputs": [],
   "source": [
    "!pip install torch"
   ]
  },
  {
   "cell_type": "code",
   "execution_count": 3,
   "metadata": {},
   "outputs": [
    {
     "name": "stdout",
     "output_type": "stream",
     "text": [
      "Name: torch\n",
      "Version: 2.7.0+cu128\n",
      "Summary: Tensors and Dynamic neural networks in Python with strong GPU acceleration\n",
      "Home-page: https://pytorch.org/\n",
      "Author: PyTorch Team\n",
      "Author-email: packages@pytorch.org\n",
      "License: BSD-3-Clause\n",
      "Location: c:\\Users\\Dario\\Desktop\\CHLP\\Contextual_HLP\\env\\Lib\\site-packages\n",
      "Requires: filelock, fsspec, jinja2, networkx, setuptools, sympy, typing-extensions\n",
      "Required-by: \n",
      "Note: you may need to restart the kernel to use updated packages.\n"
     ]
    }
   ],
   "source": [
    "pip show torch\n"
   ]
  },
  {
   "cell_type": "code",
   "execution_count": 4,
   "metadata": {},
   "outputs": [
    {
     "name": "stderr",
     "output_type": "stream",
     "text": [
      "c:\\Users\\Dario\\Desktop\\CHLP\\Contextual_HLP\\env\\Lib\\site-packages\\tqdm\\auto.py:21: TqdmWarning: IProgress not found. Please update jupyter and ipywidgets. See https://ipywidgets.readthedocs.io/en/stable/user_install.html\n",
      "  from .autonotebook import tqdm as notebook_tqdm\n"
     ]
    }
   ],
   "source": [
    "import torch\n",
    "import torch.nn as nn\n",
    "from datasets import IMDBHypergraphDataset, collate_fn, train_test_split, ARXIVHypergraphDataset\n",
    "from torch.utils.data import DataLoader\n",
    "from torch_geometric.nn import HypergraphConv\n",
    "import matplotlib.pyplot as plt\n",
    "from tqdm.auto import trange, tqdm\n",
    "from torch_geometric.data.hypergraph_data import HyperGraphData\n",
    "from torch_geometric.nn.aggr import MeanAggregation\n",
    "from sklearn.metrics import confusion_matrix, roc_auc_score\n",
    "from torch.utils.tensorboard import SummaryWriter"
   ]
  },
  {
   "cell_type": "code",
   "execution_count": 5,
   "metadata": {},
   "outputs": [],
   "source": [
    "from sklearn.metrics import roc_curve\n",
    "import numpy as np\n",
    "\n",
    "def sensivity_specificity_cutoff(y_true, y_score):\n",
    "    fpr, tpr, thresholds = roc_curve(y_true, y_score)\n",
    "    idx = np.argmax(tpr - fpr)\n",
    "    return thresholds[idx]"
   ]
  },
  {
   "cell_type": "code",
   "execution_count": 6,
   "metadata": {},
   "outputs": [
    {
     "data": {
      "text/plain": [
       "device(type='cuda')"
      ]
     },
     "execution_count": 6,
     "metadata": {},
     "output_type": "execute_result"
    }
   ],
   "source": [
    "device = torch.device('cuda' if torch.cuda.is_available() else 'cpu')\n",
    "device"
   ]
  },
  {
   "cell_type": "markdown",
   "metadata": {},
   "source": [
    "## Load the Dataset"
   ]
  },
  {
   "cell_type": "code",
   "execution_count": 7,
   "metadata": {},
   "outputs": [],
   "source": [
    "def pre_transform(data: HyperGraphData):\n",
    "    data.edge_index = data.edge_index[:, torch.isin(data.edge_index[1], (data.edge_index[1].bincount() > 1).nonzero())]\n",
    "    unique, inverse = data.edge_index[1].unique(return_inverse=True)\n",
    "    data.edge_attr = data.edge_attr[unique]\n",
    "    data.edge_index[1] = inverse\n",
    "    return data"
   ]
  },
  {
   "cell_type": "code",
   "execution_count": 8,
   "metadata": {},
   "outputs": [],
   "source": [
    "dataset = ARXIVHypergraphDataset(\"./data\", pre_transform=pre_transform)\n",
    "train_dataset, test_dataset, _, _, _, _ = train_test_split(dataset, test_size=0.4)\n",
    "# Train dataset is for train\n",
    "# Test indices for evaluation (the forward pass is performed on the whole network)"
   ]
  },
  {
   "cell_type": "code",
   "execution_count": 9,
   "metadata": {},
   "outputs": [],
   "source": [
    "from random import randint\n",
    "writer = SummaryWriter(f\"./logs/{dataset.DATASET_NAME}/{randint(0, 10000)}/\")"
   ]
  },
  {
   "cell_type": "code",
   "execution_count": 10,
   "metadata": {},
   "outputs": [],
   "source": [
    "# dataset._data.x = torch.randn_like(dataset._data.x)\n",
    "# dataset._data.edge_attr = torch.randn_like(dataset._data.edge_attr)"
   ]
  },
  {
   "cell_type": "markdown",
   "metadata": {},
   "source": [
    "## Training"
   ]
  },
  {
   "cell_type": "code",
   "execution_count": 11,
   "metadata": {},
   "outputs": [],
   "source": [
    "loader = DataLoader(\n",
    "    dataset,\n",
    "    collate_fn=collate_fn,\n",
    "    batch_size=10000,\n",
    "    # num_workers=8,        # Uncomment for faster loading\n",
    "    pin_memory=True,      # Uncomment for faster loading\n",
    "    shuffle=True,\n",
    "    drop_last=True\n",
    ")"
   ]
  },
  {
   "cell_type": "markdown",
   "metadata": {},
   "source": [
    "### Initalize the model"
   ]
  },
  {
   "cell_type": "code",
   "execution_count": 12,
   "metadata": {},
   "outputs": [],
   "source": [
    "class Model(nn.Module):\n",
    "    \n",
    "    def __init__(self,\n",
    "                 in_channels: int,\n",
    "                 hidden_channels: int,\n",
    "                 out_channels: int,\n",
    "                 num_layers: int = 1):\n",
    "        super(Model, self).__init__()\n",
    "        self.dropout = nn.Dropout(0.3)\n",
    "        self.activation = nn.LeakyReLU()\n",
    "        self.in_norm = nn.LayerNorm(in_channels)\n",
    "        self.in_proj = nn.Linear(in_channels, hidden_channels)\n",
    "        self.e_proj = nn.Linear(in_channels, hidden_channels)\n",
    "        self.e_norm = nn.LayerNorm(in_channels)\n",
    "\n",
    "        for i in range(num_layers):\n",
    "            setattr(self, f\"n_norm_{i}\", nn.LayerNorm(hidden_channels))\n",
    "            setattr(self, f\"e_norm_{i}\", nn.LayerNorm(hidden_channels))\n",
    "            setattr(self, f\"hgconv_{i}\", HypergraphConv(\n",
    "                hidden_channels,\n",
    "                hidden_channels,\n",
    "                use_attention=True,\n",
    "                concat=False,\n",
    "                heads=1\n",
    "            ))\n",
    "            setattr(self, f\"skip_{i}\", nn.Linear(hidden_channels, hidden_channels))\n",
    "        self.num_layers = num_layers\n",
    "\n",
    "        self.aggr = MeanAggregation()\n",
    "        self.linear = nn.Linear(hidden_channels, out_channels)\n",
    "\n",
    "    def forward(self, x, x_e, edge_index):\n",
    "        x = self.in_norm(x)\n",
    "        x = self.in_proj(x)\n",
    "        x = self.activation(x)\n",
    "        x = self.dropout(x)\n",
    "\n",
    "        x_e = self.e_norm(x_e)\n",
    "        x_e = self.e_proj(x_e)\n",
    "        x_e = self.activation(x_e)\n",
    "        x_e = self.dropout(x_e)\n",
    "\n",
    "        for i in range(self.num_layers):\n",
    "            n_norm = getattr(self, f\"n_norm_{i}\")\n",
    "            e_norm = getattr(self, f\"e_norm_{i}\")\n",
    "            hgconv = getattr(self, f\"hgconv_{i}\")\n",
    "            skip = getattr(self, f\"skip_{i}\")\n",
    "            x = n_norm(x)\n",
    "            x_e = e_norm(x_e)\n",
    "            x = self.activation(hgconv(x, edge_index, hyperedge_attr=x_e)) + \\\n",
    "                skip(x)\n",
    "\n",
    "        x = self.aggr(x[edge_index[0]], edge_index[1])\n",
    "        x = self.linear(x)\n",
    "        return x"
   ]
  },
  {
   "cell_type": "code",
   "execution_count": 13,
   "metadata": {},
   "outputs": [],
   "source": [
    "model = Model(\n",
    "    in_channels=dataset.num_features,\n",
    "    hidden_channels=256,\n",
    "    out_channels=1\n",
    ").to(device)\n",
    "optimizer = torch.optim.Adam(model.parameters(), lr=0.0001)\n",
    "criterion = torch.nn.BCEWithLogitsLoss()\n",
    "test_criterion = torch.nn.BCELoss()"
   ]
  },
  {
   "cell_type": "code",
   "execution_count": 14,
   "metadata": {},
   "outputs": [],
   "source": [
    "def negative_sampling(h: HyperGraphData):\n",
    "    edge_index = h.edge_index.clone()\n",
    "    edge_index[0] = torch.randint(0, h.num_nodes, (edge_index[1].shape[0], ), device=h.x.device)\n",
    "    h_edge_attr = torch.vstack((h.edge_attr, h.edge_attr))\n",
    "    h.y = torch.vstack((\n",
    "        torch.ones((h.edge_index[1].max() + 1, 1), device=h.x.device),\n",
    "        torch.zeros((edge_index[1].max() + 1, 1), device=h.x.device),\n",
    "    ))\n",
    "    edge_index[1] += edge_index[1].max() + 1\n",
    "    edge_index = torch.hstack((h.edge_index, edge_index))\n",
    "    h_ = HyperGraphData(\n",
    "        x=h.x,\n",
    "        edge_index=edge_index,\n",
    "        edge_attr=h_edge_attr,\n",
    "        y=h.y,\n",
    "        num_nodes=h.num_nodes,\n",
    "    )\n",
    "    return h_"
   ]
  },
  {
   "cell_type": "code",
   "execution_count": 15,
   "metadata": {},
   "outputs": [
    {
     "name": "stderr",
     "output_type": "stream",
     "text": [
      "  4%|▍         | 6/150 [24:45<9:54:04, 247.53s/it] \n"
     ]
    },
    {
     "ename": "KeyboardInterrupt",
     "evalue": "",
     "output_type": "error",
     "traceback": [
      "\u001b[31m---------------------------------------------------------------------------\u001b[39m",
      "\u001b[31mKeyboardInterrupt\u001b[39m                         Traceback (most recent call last)",
      "\u001b[36mCell\u001b[39m\u001b[36m \u001b[39m\u001b[32mIn[15]\u001b[39m\u001b[32m, line 6\u001b[39m\n\u001b[32m      4\u001b[39m \u001b[38;5;66;03m# 1. Zero gradients\u001b[39;00m\n\u001b[32m      5\u001b[39m optimizer.zero_grad()\n\u001b[32m----> \u001b[39m\u001b[32m6\u001b[39m \u001b[43m\u001b[49m\u001b[38;5;28;43;01mfor\u001b[39;49;00m\u001b[43m \u001b[49m\u001b[43mi\u001b[49m\u001b[43m,\u001b[49m\u001b[43m \u001b[49m\u001b[43mh\u001b[49m\u001b[43m \u001b[49m\u001b[38;5;129;43;01min\u001b[39;49;00m\u001b[43m \u001b[49m\u001b[43mtqdm\u001b[49m\u001b[43m(\u001b[49m\u001b[38;5;28;43menumerate\u001b[39;49m\u001b[43m(\u001b[49m\u001b[43mloader\u001b[49m\u001b[43m)\u001b[49m\u001b[43m,\u001b[49m\u001b[43m \u001b[49m\u001b[43mleave\u001b[49m\u001b[43m=\u001b[49m\u001b[38;5;28;43;01mFalse\u001b[39;49;00m\u001b[43m)\u001b[49m\u001b[43m:\u001b[49m\n\u001b[32m      7\u001b[39m \u001b[43m    \u001b[49m\u001b[43mh\u001b[49m\u001b[43m \u001b[49m\u001b[43m=\u001b[49m\u001b[43m \u001b[49m\u001b[43mh\u001b[49m\u001b[43m.\u001b[49m\u001b[43mto\u001b[49m\u001b[43m(\u001b[49m\u001b[43mdevice\u001b[49m\u001b[43m)\u001b[49m\n\u001b[32m      8\u001b[39m \u001b[43m    \u001b[49m\u001b[43mh_\u001b[49m\u001b[43m \u001b[49m\u001b[43m=\u001b[49m\u001b[43m \u001b[49m\u001b[43mnegative_sampling\u001b[49m\u001b[43m(\u001b[49m\u001b[43mh\u001b[49m\u001b[43m)\u001b[49m\n",
      "\u001b[36mFile \u001b[39m\u001b[32mc:\\Users\\Dario\\Desktop\\CHLP\\Contextual_HLP\\env\\Lib\\site-packages\\tqdm\\std.py:1181\u001b[39m, in \u001b[36mtqdm.__iter__\u001b[39m\u001b[34m(self)\u001b[39m\n\u001b[32m   1178\u001b[39m time = \u001b[38;5;28mself\u001b[39m._time\n\u001b[32m   1180\u001b[39m \u001b[38;5;28;01mtry\u001b[39;00m:\n\u001b[32m-> \u001b[39m\u001b[32m1181\u001b[39m \u001b[43m    \u001b[49m\u001b[38;5;28;43;01mfor\u001b[39;49;00m\u001b[43m \u001b[49m\u001b[43mobj\u001b[49m\u001b[43m \u001b[49m\u001b[38;5;129;43;01min\u001b[39;49;00m\u001b[43m \u001b[49m\u001b[43miterable\u001b[49m\u001b[43m:\u001b[49m\n\u001b[32m   1182\u001b[39m \u001b[43m        \u001b[49m\u001b[38;5;28;43;01myield\u001b[39;49;00m\u001b[43m \u001b[49m\u001b[43mobj\u001b[49m\n\u001b[32m   1183\u001b[39m \u001b[43m        \u001b[49m\u001b[38;5;66;43;03m# Update and possibly print the progressbar.\u001b[39;49;00m\n\u001b[32m   1184\u001b[39m \u001b[43m        \u001b[49m\u001b[38;5;66;43;03m# Note: does not call self.update(1) for speed optimisation.\u001b[39;49;00m\n",
      "\u001b[36mFile \u001b[39m\u001b[32mc:\\Users\\Dario\\Desktop\\CHLP\\Contextual_HLP\\env\\Lib\\site-packages\\torch\\utils\\data\\dataloader.py:733\u001b[39m, in \u001b[36m_BaseDataLoaderIter.__next__\u001b[39m\u001b[34m(self)\u001b[39m\n\u001b[32m    730\u001b[39m \u001b[38;5;28;01mif\u001b[39;00m \u001b[38;5;28mself\u001b[39m._sampler_iter \u001b[38;5;129;01mis\u001b[39;00m \u001b[38;5;28;01mNone\u001b[39;00m:\n\u001b[32m    731\u001b[39m     \u001b[38;5;66;03m# TODO(https://github.com/pytorch/pytorch/issues/76750)\u001b[39;00m\n\u001b[32m    732\u001b[39m     \u001b[38;5;28mself\u001b[39m._reset()  \u001b[38;5;66;03m# type: ignore[call-arg]\u001b[39;00m\n\u001b[32m--> \u001b[39m\u001b[32m733\u001b[39m data = \u001b[38;5;28;43mself\u001b[39;49m\u001b[43m.\u001b[49m\u001b[43m_next_data\u001b[49m\u001b[43m(\u001b[49m\u001b[43m)\u001b[49m\n\u001b[32m    734\u001b[39m \u001b[38;5;28mself\u001b[39m._num_yielded += \u001b[32m1\u001b[39m\n\u001b[32m    735\u001b[39m \u001b[38;5;28;01mif\u001b[39;00m (\n\u001b[32m    736\u001b[39m     \u001b[38;5;28mself\u001b[39m._dataset_kind == _DatasetKind.Iterable\n\u001b[32m    737\u001b[39m     \u001b[38;5;129;01mand\u001b[39;00m \u001b[38;5;28mself\u001b[39m._IterableDataset_len_called \u001b[38;5;129;01mis\u001b[39;00m \u001b[38;5;129;01mnot\u001b[39;00m \u001b[38;5;28;01mNone\u001b[39;00m\n\u001b[32m    738\u001b[39m     \u001b[38;5;129;01mand\u001b[39;00m \u001b[38;5;28mself\u001b[39m._num_yielded > \u001b[38;5;28mself\u001b[39m._IterableDataset_len_called\n\u001b[32m    739\u001b[39m ):\n",
      "\u001b[36mFile \u001b[39m\u001b[32mc:\\Users\\Dario\\Desktop\\CHLP\\Contextual_HLP\\env\\Lib\\site-packages\\torch\\utils\\data\\dataloader.py:789\u001b[39m, in \u001b[36m_SingleProcessDataLoaderIter._next_data\u001b[39m\u001b[34m(self)\u001b[39m\n\u001b[32m    787\u001b[39m \u001b[38;5;28;01mdef\u001b[39;00m\u001b[38;5;250m \u001b[39m\u001b[34m_next_data\u001b[39m(\u001b[38;5;28mself\u001b[39m):\n\u001b[32m    788\u001b[39m     index = \u001b[38;5;28mself\u001b[39m._next_index()  \u001b[38;5;66;03m# may raise StopIteration\u001b[39;00m\n\u001b[32m--> \u001b[39m\u001b[32m789\u001b[39m     data = \u001b[38;5;28;43mself\u001b[39;49m\u001b[43m.\u001b[49m\u001b[43m_dataset_fetcher\u001b[49m\u001b[43m.\u001b[49m\u001b[43mfetch\u001b[49m\u001b[43m(\u001b[49m\u001b[43mindex\u001b[49m\u001b[43m)\u001b[49m  \u001b[38;5;66;03m# may raise StopIteration\u001b[39;00m\n\u001b[32m    790\u001b[39m     \u001b[38;5;28;01mif\u001b[39;00m \u001b[38;5;28mself\u001b[39m._pin_memory:\n\u001b[32m    791\u001b[39m         data = _utils.pin_memory.pin_memory(data, \u001b[38;5;28mself\u001b[39m._pin_memory_device)\n",
      "\u001b[36mFile \u001b[39m\u001b[32mc:\\Users\\Dario\\Desktop\\CHLP\\Contextual_HLP\\env\\Lib\\site-packages\\torch\\utils\\data\\_utils\\fetch.py:55\u001b[39m, in \u001b[36m_MapDatasetFetcher.fetch\u001b[39m\u001b[34m(self, possibly_batched_index)\u001b[39m\n\u001b[32m     53\u001b[39m \u001b[38;5;28;01melse\u001b[39;00m:\n\u001b[32m     54\u001b[39m     data = \u001b[38;5;28mself\u001b[39m.dataset[possibly_batched_index]\n\u001b[32m---> \u001b[39m\u001b[32m55\u001b[39m \u001b[38;5;28;01mreturn\u001b[39;00m \u001b[38;5;28;43mself\u001b[39;49m\u001b[43m.\u001b[49m\u001b[43mcollate_fn\u001b[49m\u001b[43m(\u001b[49m\u001b[43mdata\u001b[49m\u001b[43m)\u001b[49m\n",
      "\u001b[36mFile \u001b[39m\u001b[32mc:\\Users\\Dario\\Desktop\\CHLP\\Contextual_HLP\\datasets.py:30\u001b[39m, in \u001b[36mcollate_fn\u001b[39m\u001b[34m(batch)\u001b[39m\n\u001b[32m     28\u001b[39m     edge_index = torch.hstack((edge_index, b_edge_index))\n\u001b[32m     29\u001b[39m     b_edge_attr = b.edge_attr\n\u001b[32m---> \u001b[39m\u001b[32m30\u001b[39m     edge_attr = \u001b[43mtorch\u001b[49m\u001b[43m.\u001b[49m\u001b[43mvstack\u001b[49m\u001b[43m(\u001b[49m\u001b[43m(\u001b[49m\u001b[43medge_attr\u001b[49m\u001b[43m,\u001b[49m\u001b[43m \u001b[49m\u001b[43mb_edge_attr\u001b[49m\u001b[43m)\u001b[49m\u001b[43m)\u001b[49m\n\u001b[32m     31\u001b[39m unique, edge_index[\u001b[32m0\u001b[39m] = edge_index[\u001b[32m0\u001b[39m].unique(return_inverse=\u001b[38;5;28;01mTrue\u001b[39;00m)\n\u001b[32m     32\u001b[39m result = HyperGraphData(\n\u001b[32m     33\u001b[39m     x=x[unique],\n\u001b[32m     34\u001b[39m     edge_index=edge_index,\n\u001b[32m     35\u001b[39m     edge_attr=edge_attr,\n\u001b[32m     36\u001b[39m )\n",
      "\u001b[31mKeyboardInterrupt\u001b[39m: "
     ]
    }
   ],
   "source": [
    "test_dataset_ = negative_sampling(test_dataset).to(device)\n",
    "for epoch in trange(150):\n",
    "    model.train()\n",
    "    # 1. Zero gradients\n",
    "    optimizer.zero_grad()\n",
    "    for i, h in tqdm(enumerate(loader), leave=False):\n",
    "        h = h.to(device)\n",
    "        h_ = negative_sampling(h)\n",
    "        y_train = model(h_.x, h_.edge_attr, h_.edge_index)\n",
    "        loss = criterion(y_train, h_.y)\n",
    "        loss.backward()\n",
    "        writer.add_scalar(\"Loss/train\", loss.item(), epoch * len(loader) + i)\n",
    "    optimizer.step()\n",
    "\n",
    "    model.eval()\n",
    "    with torch.no_grad():\n",
    "        y_test = model(test_dataset_.x.to(device), test_dataset_.edge_attr.to(device), test_dataset_.edge_index.to(device)) # The test forward is performed on the whole network\n",
    "        y_test = torch.sigmoid(y_test)\n",
    "        loss = test_criterion(y_test, test_dataset_.y)\n",
    "        writer.add_scalar(\"Loss/test\", loss.item(), epoch)\n",
    "        roc_auc = roc_auc_score(test_dataset_.y.cpu().numpy(), y_test.cpu().numpy())\n",
    "        writer.add_scalar(\"ROC_AUC/test\", roc_auc, epoch)"
   ]
  },
  {
   "cell_type": "code",
   "execution_count": null,
   "metadata": {},
   "outputs": [],
   "source": [
    "torch.save(model, 'path_to_directory/entire_model.pth')"
   ]
  },
  {
   "cell_type": "markdown",
   "metadata": {},
   "source": [
    "## Evaluation"
   ]
  },
  {
   "cell_type": "code",
   "execution_count": null,
   "metadata": {},
   "outputs": [
    {
     "data": {
      "text/plain": [
       "<Axes: >"
      ]
     },
     "execution_count": 16,
     "metadata": {},
     "output_type": "execute_result"
    },
    {
     "data": {
      "image/png": "[encoded data removed]",
      "text/plain": [
       "<Figure size 640x480 with 2 Axes>"
      ]
     },
     "metadata": {},
     "output_type": "display_data"
    }
   ],
   "source": [
    "import seaborn as sns\n",
    "\n",
    "cutoff = sensivity_specificity_cutoff(test_dataset_.y.cpu().numpy(), y_test.cpu().numpy())\n",
    "cm = confusion_matrix(\n",
    "    test_dataset_.y.cpu().numpy(),\n",
    "    (y_test > cutoff).cpu().numpy(),\n",
    "    labels=[0, 1],\n",
    "    normalize='true'\n",
    ")\n",
    "sns.heatmap(cm, annot=True, cmap='Blues', xticklabels=['Negative', 'Positive'], yticklabels=['Negative', 'Positive'])"
   ]
  },
  {
   "cell_type": "markdown",
   "metadata": {},
   "source": [
    "## Evaluation"
   ]
  },
  {
   "cell_type": "code",
   "execution_count": null,
   "metadata": {},
   "outputs": [],
   "source": [
    "test_dataset_ = negative_sampling(test_dataset)\n",
    "y_test = model(test_dataset_.x.to(device), test_dataset_.edge_attr.to(device), test_dataset_.edge_index.to(device)) # The test forward is performed on the whole network\n",
    "y_test = torch.sigmoid(y_test)"
   ]
  },
  {
   "cell_type": "code",
   "execution_count": null,
   "metadata": {},
   "outputs": [],
   "source": []
  }
 ],
 "metadata": {
  "kernelspec": {
   "display_name": "env",
   "language": "python",
   "name": "python3"
  },
  "language_info": {
   "codemirror_mode": {
    "name": "ipython",
    "version": 3
   },
   "file_extension": ".py",
   "mimetype": "text/x-python",
   "name": "python",
   "nbconvert_exporter": "python",
   "pygments_lexer": "ipython3",
   "version": "3.13.3"
  }
 },
 "nbformat": 4,
 "nbformat_minor": 2
}
